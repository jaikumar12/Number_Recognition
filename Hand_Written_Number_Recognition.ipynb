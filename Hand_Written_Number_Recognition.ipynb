{
 "cells": [
  {
   "cell_type": "code",
   "execution_count": null,
   "id": "bc36f19c",
   "metadata": {},
   "outputs": [],
   "source": [
    "# Import necessary libraries and set random seed for reproducibility\n",
    "\n",
    "import numpy as np               # NumPy for numerical operations\n",
    "import matplotlib.pyplot as plt  # Matplotlib for plotting\n",
    "import seaborn as sns            # Seaborn for data visualization\n",
    "import cv2                       # OpenCV for image processing\n",
    "from PIL import Image            # Python Imaging Library for image handling\n",
    "import tensorflow as tf          # TensorFlow for deep learning\n",
    "tf.random.set_seed(3)            # Set a random seed for reproducible results\n",
    "from tensorflow import keras     # Keras, a high-level deep learning API\n",
    "from keras.datasets import mnist # MNIST dataset for digit classification\n",
    "from tensorflow.math import confusion_matrix  # TensorFlow math for confusion matrix\n",
    "from tensorflow.keras import Sequential\n",
    "from tensorflow.keras.layers import Dense,Flatten"
   ]
  },
  {
   "cell_type": "markdown",
   "id": "1c48a6e8",
   "metadata": {},
   "source": [
    "Loading the MNIST data from keras.datasets"
   ]
  },
  {
   "cell_type": "code",
   "execution_count": 2,
   "id": "34e25d5f",
   "metadata": {},
   "outputs": [],
   "source": [
    "# Load the MNIST dataset, which consists of handwritten digit images\n",
    "# The dataset is divided into two parts: training and testing data\n",
    "# (x_train, y_train): Training data, where x_train contains the images and y_train contains their corresponding labels\n",
    "# (x_test, y_test): Testing data, used to evaluate the model's performance\n",
    "(x_train, y_train), (x_test, y_test) = mnist.load_data()\n",
    "(x_train,y_train),(x_test,y_test) = mnist.load_data()"
   ]
  },
  {
   "cell_type": "code",
   "execution_count": 3,
   "id": "6e4ef18f",
   "metadata": {},
   "outputs": [
    {
     "data": {
      "text/plain": [
       "numpy.ndarray"
      ]
     },
     "execution_count": 3,
     "metadata": {},
     "output_type": "execute_result"
    }
   ],
   "source": [
    "# Print the data types of x_train\n",
    "type(x_train)"
   ]
  },
  {
   "cell_type": "code",
   "execution_count": 4,
   "id": "784d7db0",
   "metadata": {},
   "outputs": [
    {
     "name": "stdout",
     "output_type": "stream",
     "text": [
      "(60000, 28, 28) (60000,) (10000, 28, 28) (10000,)\n"
     ]
    }
   ],
   "source": [
    "# Print the shapes of the datasets\n",
    "print(x_train.shape,y_train.shape,x_test.shape,y_test.shape)"
   ]
  },
  {
   "cell_type": "markdown",
   "id": "caa1941a",
   "metadata": {},
   "source": [
    "Training data = 60000 Images , Test data = 10000 Images"
   ]
  },
  {
   "cell_type": "markdown",
   "id": "ee35d5e1",
   "metadata": {},
   "source": [
    "Image dimension --> 28 x 28\n",
    "Grayscale Image --> 1 Channel"
   ]
  },
  {
   "cell_type": "code",
   "execution_count": 5,
   "id": "aaeed07a",
   "metadata": {},
   "outputs": [
    {
     "name": "stdout",
     "output_type": "stream",
     "text": [
      "[[  0   0   0   0   0   0   0   0   0   0   0   0   0   0   0   0   0   0\n",
      "    0   0   0   0   0   0   0   0   0   0]\n",
      " [  0   0   0   0   0   0   0   0   0   0   0   0   0   0   0   0   0   0\n",
      "    0   0   0   0   0   0   0   0   0   0]\n",
      " [  0   0   0   0   0   0   0   0   0   0   0   0   0   0   0   0   0   0\n",
      "    0   0   0   0   0   0   0   0   0   0]\n",
      " [  0   0   0   0   0   0   0   0   0   0   0   0   0   0   0   0   0   0\n",
      "    0   0   0   0   0   0   0   0   0   0]\n",
      " [  0   0   0   0   0   0   0   0   0   0   0  42 118 219 166 118 118   6\n",
      "    0   0   0   0   0   0   0   0   0   0]\n",
      " [  0   0   0   0   0   0   0   0   0   0 103 242 254 254 254 254 254  66\n",
      "    0   0   0   0   0   0   0   0   0   0]\n",
      " [  0   0   0   0   0   0   0   0   0   0  18 232 254 254 254 254 254 238\n",
      "   70   0   0   0   0   0   0   0   0   0]\n",
      " [  0   0   0   0   0   0   0   0   0   0   0 104 244 254 224 254 254 254\n",
      "  141   0   0   0   0   0   0   0   0   0]\n",
      " [  0   0   0   0   0   0   0   0   0   0   0   0 207 254 210 254 254 254\n",
      "   34   0   0   0   0   0   0   0   0   0]\n",
      " [  0   0   0   0   0   0   0   0   0   0   0   0  84 206 254 254 254 254\n",
      "   41   0   0   0   0   0   0   0   0   0]\n",
      " [  0   0   0   0   0   0   0   0   0   0   0   0   0  24 209 254 254 254\n",
      "  171   0   0   0   0   0   0   0   0   0]\n",
      " [  0   0   0   0   0   0   0   0   0   0   0   0  91 137 253 254 254 254\n",
      "  112   0   0   0   0   0   0   0   0   0]\n",
      " [  0   0   0   0   0   0   0   0   0   0  40 214 250 254 254 254 254 254\n",
      "   34   0   0   0   0   0   0   0   0   0]\n",
      " [  0   0   0   0   0   0   0   0   0   0  81 247 254 254 254 254 254 254\n",
      "  146   0   0   0   0   0   0   0   0   0]\n",
      " [  0   0   0   0   0   0   0   0   0   0   0 110 246 254 254 254 254 254\n",
      "  171   0   0   0   0   0   0   0   0   0]\n",
      " [  0   0   0   0   0   0   0   0   0   0   0   0  73  89  89  93 240 254\n",
      "  171   0   0   0   0   0   0   0   0   0]\n",
      " [  0   0   0   0   0   0   0   0   0   0   0   0   0   0   0   1 128 254\n",
      "  219  31   0   0   0   0   0   0   0   0]\n",
      " [  0   0   0   0   0   0   0   0   0   0   0   0   0   0   0   7 254 254\n",
      "  214  28   0   0   0   0   0   0   0   0]\n",
      " [  0   0   0   0   0   0   0   0   0   0   0   0   0   0   0 138 254 254\n",
      "  116   0   0   0   0   0   0   0   0   0]\n",
      " [  0   0   0   0   0   0  19 177  90   0   0   0   0   0  25 240 254 254\n",
      "   34   0   0   0   0   0   0   0   0   0]\n",
      " [  0   0   0   0   0   0 164 254 215  63  36   0  51  89 206 254 254 139\n",
      "    8   0   0   0   0   0   0   0   0   0]\n",
      " [  0   0   0   0   0   0  57 197 254 254 222 180 241 254 254 253 213  11\n",
      "    0   0   0   0   0   0   0   0   0   0]\n",
      " [  0   0   0   0   0   0   0 140 105 254 254 254 254 254 254 236   0   0\n",
      "    0   0   0   0   0   0   0   0   0   0]\n",
      " [  0   0   0   0   0   0   0   0   7 117 117 165 254 254 239  50   0   0\n",
      "    0   0   0   0   0   0   0   0   0   0]\n",
      " [  0   0   0   0   0   0   0   0   0   0   0   0   0   0   0   0   0   0\n",
      "    0   0   0   0   0   0   0   0   0   0]\n",
      " [  0   0   0   0   0   0   0   0   0   0   0   0   0   0   0   0   0   0\n",
      "    0   0   0   0   0   0   0   0   0   0]\n",
      " [  0   0   0   0   0   0   0   0   0   0   0   0   0   0   0   0   0   0\n",
      "    0   0   0   0   0   0   0   0   0   0]\n",
      " [  0   0   0   0   0   0   0   0   0   0   0   0   0   0   0   0   0   0\n",
      "    0   0   0   0   0   0   0   0   0   0]]\n"
     ]
    }
   ],
   "source": [
    "# Print the data of a specific image (in this case, the 10th image in the training set)\n",
    "\n",
    "print(x_train[10])"
   ]
  },
  {
   "cell_type": "code",
   "execution_count": 6,
   "id": "2ea599e4",
   "metadata": {},
   "outputs": [
    {
     "name": "stdout",
     "output_type": "stream",
     "text": [
      "(28, 28)\n"
     ]
    }
   ],
   "source": [
    "# Print the shape of a specific image\n",
    "print(x_train[10].shape)"
   ]
  },
  {
   "cell_type": "code",
   "execution_count": 7,
   "id": "951dc347",
   "metadata": {},
   "outputs": [
    {
     "data": {
      "image/png": "[encoded data removed]",
      "text/plain": [
       "<Figure size 640x480 with 1 Axes>"
      ]
     },
     "metadata": {},
     "output_type": "display_data"
    },
    {
     "name": "stdout",
     "output_type": "stream",
     "text": [
      "Image Labels: 2\n"
     ]
    }
   ],
   "source": [
    "# Display an image (in this case, the 25th image in the training set)\n",
    "plt.imshow(x_train[25])\n",
    "plt.show()\n",
    "\n",
    "# Print the label corresponding to the displayed image\n",
    "print('Image Labels:', y_train[25])"
   ]
  },
  {
   "cell_type": "code",
   "execution_count": 8,
   "id": "30339277",
   "metadata": {},
   "outputs": [
    {
     "name": "stdout",
     "output_type": "stream",
     "text": [
      "(60000,) (10000,)\n"
     ]
    }
   ],
   "source": [
    "# Print the shapes of the training and testing label sets\n",
    "print(y_train.shape,y_test.shape)"
   ]
  },
  {
   "cell_type": "code",
   "execution_count": 9,
   "id": "b0c68e2c",
   "metadata": {},
   "outputs": [
    {
     "name": "stdout",
     "output_type": "stream",
     "text": [
      "Unique values in y_train: [0 1 2 3 4 5 6 7 8 9]\n",
      "Unique values in y_test: [0 1 2 3 4 5 6 7 8 9]\n"
     ]
    }
   ],
   "source": [
    "# Print unique values in y_train\n",
    "print('Unique values in y_train:', np.unique(y_train))\n",
    "\n",
    "# Print unique values in y_test\n",
    "print('Unique values in y_test:', np.unique(y_test))"
   ]
  },
  {
   "cell_type": "markdown",
   "id": "89e18c3a",
   "metadata": {},
   "source": [
    "we can these labels as such or we can also apply One Hot Encoding"
   ]
  },
  {
   "cell_type": "markdown",
   "id": "114a468e",
   "metadata": {},
   "source": [
    "All the images have the same dimension in this datasets , if not , we have \n",
    "to resize all the Images to a common dimension"
   ]
  },
  {
   "cell_type": "code",
   "execution_count": 10,
   "id": "5cb58191",
   "metadata": {},
   "outputs": [],
   "source": [
    "# Scale the pixel values to a range between 0 and 1 (Normalization)\n",
    "x_train = x_train / 255\n",
    "x_test = x_test / 255"
   ]
  },
  {
   "cell_type": "code",
   "execution_count": 11,
   "id": "a644226a",
   "metadata": {},
   "outputs": [
    {
     "name": "stdout",
     "output_type": "stream",
     "text": [
      "Normalized Pixel Values of the 10th Image: [[0.         0.         0.         0.         0.         0.\n",
      "  0.         0.         0.         0.         0.         0.\n",
      "  0.         0.         0.         0.         0.         0.\n",
      "  0.         0.         0.         0.         0.         0.\n",
      "  0.         0.         0.         0.        ]\n",
      " [0.         0.         0.         0.         0.         0.\n",
      "  0.         0.         0.         0.         0.         0.\n",
      "  0.         0.         0.         0.         0.         0.\n",
      "  0.         0.         0.         0.         0.         0.\n",
      "  0.         0.         0.         0.        ]\n",
      " [0.         0.         0.         0.         0.         0.\n",
      "  0.         0.         0.         0.         0.         0.\n",
      "  0.         0.         0.         0.         0.         0.\n",
      "  0.         0.         0.         0.         0.         0.\n",
      "  0.         0.         0.         0.        ]\n",
      " [0.         0.         0.         0.         0.         0.\n",
      "  0.         0.         0.         0.         0.         0.\n",
      "  0.         0.         0.         0.         0.         0.\n",
      "  0.         0.         0.         0.         0.         0.\n",
      "  0.         0.         0.         0.        ]\n",
      " [0.         0.         0.         0.         0.         0.\n",
      "  0.         0.         0.         0.         0.         0.16470588\n",
      "  0.4627451  0.85882353 0.65098039 0.4627451  0.4627451  0.02352941\n",
      "  0.         0.         0.         0.         0.         0.\n",
      "  0.         0.         0.         0.        ]\n",
      " [0.         0.         0.         0.         0.         0.\n",
      "  0.         0.         0.         0.         0.40392157 0.94901961\n",
      "  0.99607843 0.99607843 0.99607843 0.99607843 0.99607843 0.25882353\n",
      "  0.         0.         0.         0.         0.         0.\n",
      "  0.         0.         0.         0.        ]\n",
      " [0.         0.         0.         0.         0.         0.\n",
      "  0.         0.         0.         0.         0.07058824 0.90980392\n",
      "  0.99607843 0.99607843 0.99607843 0.99607843 0.99607843 0.93333333\n",
      "  0.2745098  0.         0.         0.         0.         0.\n",
      "  0.         0.         0.         0.        ]\n",
      " [0.         0.         0.         0.         0.         0.\n",
      "  0.         0.         0.         0.         0.         0.40784314\n",
      "  0.95686275 0.99607843 0.87843137 0.99607843 0.99607843 0.99607843\n",
      "  0.55294118 0.         0.         0.         0.         0.\n",
      "  0.         0.         0.         0.        ]\n",
      " [0.         0.         0.         0.         0.         0.\n",
      "  0.         0.         0.         0.         0.         0.\n",
      "  0.81176471 0.99607843 0.82352941 0.99607843 0.99607843 0.99607843\n",
      "  0.13333333 0.         0.         0.         0.         0.\n",
      "  0.         0.         0.         0.        ]\n",
      " [0.         0.         0.         0.         0.         0.\n",
      "  0.         0.         0.         0.         0.         0.\n",
      "  0.32941176 0.80784314 0.99607843 0.99607843 0.99607843 0.99607843\n",
      "  0.16078431 0.         0.         0.         0.         0.\n",
      "  0.         0.         0.         0.        ]\n",
      " [0.         0.         0.         0.         0.         0.\n",
      "  0.         0.         0.         0.         0.         0.\n",
      "  0.         0.09411765 0.81960784 0.99607843 0.99607843 0.99607843\n",
      "  0.67058824 0.         0.         0.         0.         0.\n",
      "  0.         0.         0.         0.        ]\n",
      " [0.         0.         0.         0.         0.         0.\n",
      "  0.         0.         0.         0.         0.         0.\n",
      "  0.35686275 0.5372549  0.99215686 0.99607843 0.99607843 0.99607843\n",
      "  0.43921569 0.         0.         0.         0.         0.\n",
      "  0.         0.         0.         0.        ]\n",
      " [0.         0.         0.         0.         0.         0.\n",
      "  0.         0.         0.         0.         0.15686275 0.83921569\n",
      "  0.98039216 0.99607843 0.99607843 0.99607843 0.99607843 0.99607843\n",
      "  0.13333333 0.         0.         0.         0.         0.\n",
      "  0.         0.         0.         0.        ]\n",
      " [0.         0.         0.         0.         0.         0.\n",
      "  0.         0.         0.         0.         0.31764706 0.96862745\n",
      "  0.99607843 0.99607843 0.99607843 0.99607843 0.99607843 0.99607843\n",
      "  0.57254902 0.         0.         0.         0.         0.\n",
      "  0.         0.         0.         0.        ]\n",
      " [0.         0.         0.         0.         0.         0.\n",
      "  0.         0.         0.         0.         0.         0.43137255\n",
      "  0.96470588 0.99607843 0.99607843 0.99607843 0.99607843 0.99607843\n",
      "  0.67058824 0.         0.         0.         0.         0.\n",
      "  0.         0.         0.         0.        ]\n",
      " [0.         0.         0.         0.         0.         0.\n",
      "  0.         0.         0.         0.         0.         0.\n",
      "  0.28627451 0.34901961 0.34901961 0.36470588 0.94117647 0.99607843\n",
      "  0.67058824 0.         0.         0.         0.         0.\n",
      "  0.         0.         0.         0.        ]\n",
      " [0.         0.         0.         0.         0.         0.\n",
      "  0.         0.         0.         0.         0.         0.\n",
      "  0.         0.         0.         0.00392157 0.50196078 0.99607843\n",
      "  0.85882353 0.12156863 0.         0.         0.         0.\n",
      "  0.         0.         0.         0.        ]\n",
      " [0.         0.         0.         0.         0.         0.\n",
      "  0.         0.         0.         0.         0.         0.\n",
      "  0.         0.         0.         0.02745098 0.99607843 0.99607843\n",
      "  0.83921569 0.10980392 0.         0.         0.         0.\n",
      "  0.         0.         0.         0.        ]\n",
      " [0.         0.         0.         0.         0.         0.\n",
      "  0.         0.         0.         0.         0.         0.\n",
      "  0.         0.         0.         0.54117647 0.99607843 0.99607843\n",
      "  0.45490196 0.         0.         0.         0.         0.\n",
      "  0.         0.         0.         0.        ]\n",
      " [0.         0.         0.         0.         0.         0.\n",
      "  0.0745098  0.69411765 0.35294118 0.         0.         0.\n",
      "  0.         0.         0.09803922 0.94117647 0.99607843 0.99607843\n",
      "  0.13333333 0.         0.         0.         0.         0.\n",
      "  0.         0.         0.         0.        ]\n",
      " [0.         0.         0.         0.         0.         0.\n",
      "  0.64313725 0.99607843 0.84313725 0.24705882 0.14117647 0.\n",
      "  0.2        0.34901961 0.80784314 0.99607843 0.99607843 0.54509804\n",
      "  0.03137255 0.         0.         0.         0.         0.\n",
      "  0.         0.         0.         0.        ]\n",
      " [0.         0.         0.         0.         0.         0.\n",
      "  0.22352941 0.77254902 0.99607843 0.99607843 0.87058824 0.70588235\n",
      "  0.94509804 0.99607843 0.99607843 0.99215686 0.83529412 0.04313725\n",
      "  0.         0.         0.         0.         0.         0.\n",
      "  0.         0.         0.         0.        ]\n",
      " [0.         0.         0.         0.         0.         0.\n",
      "  0.         0.54901961 0.41176471 0.99607843 0.99607843 0.99607843\n",
      "  0.99607843 0.99607843 0.99607843 0.9254902  0.         0.\n",
      "  0.         0.         0.         0.         0.         0.\n",
      "  0.         0.         0.         0.        ]\n",
      " [0.         0.         0.         0.         0.         0.\n",
      "  0.         0.         0.02745098 0.45882353 0.45882353 0.64705882\n",
      "  0.99607843 0.99607843 0.9372549  0.19607843 0.         0.\n",
      "  0.         0.         0.         0.         0.         0.\n",
      "  0.         0.         0.         0.        ]\n",
      " [0.         0.         0.         0.         0.         0.\n",
      "  0.         0.         0.         0.         0.         0.\n",
      "  0.         0.         0.         0.         0.         0.\n",
      "  0.         0.         0.         0.         0.         0.\n",
      "  0.         0.         0.         0.        ]\n",
      " [0.         0.         0.         0.         0.         0.\n",
      "  0.         0.         0.         0.         0.         0.\n",
      "  0.         0.         0.         0.         0.         0.\n",
      "  0.         0.         0.         0.         0.         0.\n",
      "  0.         0.         0.         0.        ]\n",
      " [0.         0.         0.         0.         0.         0.\n",
      "  0.         0.         0.         0.         0.         0.\n",
      "  0.         0.         0.         0.         0.         0.\n",
      "  0.         0.         0.         0.         0.         0.\n",
      "  0.         0.         0.         0.        ]\n",
      " [0.         0.         0.         0.         0.         0.\n",
      "  0.         0.         0.         0.         0.         0.\n",
      "  0.         0.         0.         0.         0.         0.\n",
      "  0.         0.         0.         0.         0.         0.\n",
      "  0.         0.         0.         0.        ]]\n"
     ]
    }
   ],
   "source": [
    "# Print the normalized pixel values of a specific image (in this case, the 10th image)\n",
    "print('Normalized Pixel Values of the 10th Image:', x_train[10])"
   ]
  },
  {
   "cell_type": "code",
   "execution_count": 12,
   "id": "5f34f4e2",
   "metadata": {},
   "outputs": [],
   "source": [
    "# Create a sequential model\n",
    "model = keras.Sequential()\n",
    "\n",
    "# Flatten the input data (convert 28x28 images to a 1D array of 784 elements)\n",
    "model.add(Flatten(input_shape=(28, 28)))\n",
    "\n",
    "# Add a densely connected layer with 128 units and ReLU activation\n",
    "model.add(Dense(128, activation='relu'))\n",
    "\n",
    "# Add another densely connected layer with 32 units and ReLU activation\n",
    "model.add(Dense(32, activation='relu'))\n",
    "\n",
    "# Add the output layer with 10 units (for 10 classes) and softmax activation\n",
    "model.add(Dense(10, activation='softmax'))"
   ]
  },
  {
   "cell_type": "code",
   "execution_count": 13,
   "id": "2e6300d3",
   "metadata": {},
   "outputs": [
    {
     "name": "stdout",
     "output_type": "stream",
     "text": [
      "Model: \"sequential\"\n",
      "_________________________________________________________________\n",
      " Layer (type)                Output Shape              Param #   \n",
      "=================================================================\n",
      " flatten (Flatten)           (None, 784)               0         \n",
      "                                                                 \n",
      " dense (Dense)               (None, 128)               100480    \n",
      "                                                                 \n",
      " dense_1 (Dense)             (None, 32)                4128      \n",
      "                                                                 \n",
      " dense_2 (Dense)             (None, 10)                330       \n",
      "                                                                 \n",
      "=================================================================\n",
      "Total params: 104938 (409.91 KB)\n",
      "Trainable params: 104938 (409.91 KB)\n",
      "Non-trainable params: 0 (0.00 Byte)\n",
      "_________________________________________________________________\n"
     ]
    }
   ],
   "source": [
    "# Print a summary of the model architecture\n",
    "model.summary()"
   ]
  },
  {
   "cell_type": "code",
   "execution_count": 14,
   "id": "0b09d7f3",
   "metadata": {},
   "outputs": [],
   "source": [
    "# Compile the neural network\n",
    "model.compile(\n",
    "    optimizer='adam',                  # Specify the optimization algorithm (Adam optimizer is commonly used)\n",
    "    loss='sparse_categorical_crossentropy',  # Specify the loss function (used for training, suitable for classification)\n",
    "    metrics=['accuracy']               # Specify evaluation metrics (accuracy will be calculated during training)\n",
    ")\n"
   ]
  },
  {
   "cell_type": "code",
   "execution_count": null,
   "id": "474b42ee",
   "metadata": {},
   "outputs": [
    {
     "name": "stdout",
     "output_type": "stream",
     "text": [
      "Epoch 1/25\n",
      "1500/1500 [==============================] - 6s 3ms/step - loss: 0.2874 - accuracy: 0.9165 - val_loss: 0.1704 - val_accuracy: 0.9499\n",
      "Epoch 2/25\n",
      "1500/1500 [==============================] - 4s 3ms/step - loss: 0.1213 - accuracy: 0.9632 - val_loss: 0.1189 - val_accuracy: 0.9638\n",
      "Epoch 3/25\n",
      "1500/1500 [==============================] - 4s 3ms/step - loss: 0.0823 - accuracy: 0.9747 - val_loss: 0.1001 - val_accuracy: 0.9707\n",
      "Epoch 4/25\n",
      "1500/1500 [==============================] - 4s 3ms/step - loss: 0.0621 - accuracy: 0.9810 - val_loss: 0.0985 - val_accuracy: 0.9722\n",
      "Epoch 5/25\n",
      "1500/1500 [==============================] - 4s 3ms/step - loss: 0.0474 - accuracy: 0.9853 - val_loss: 0.1060 - val_accuracy: 0.9702\n",
      "Epoch 6/25\n",
      "1500/1500 [==============================] - 4s 3ms/step - loss: 0.0393 - accuracy: 0.9876 - val_loss: 0.1026 - val_accuracy: 0.9732\n",
      "Epoch 7/25\n",
      "1500/1500 [==============================] - 4s 3ms/step - loss: 0.0299 - accuracy: 0.9904 - val_loss: 0.1083 - val_accuracy: 0.9719\n",
      "Epoch 8/25\n",
      "1500/1500 [==============================] - 4s 3ms/step - loss: 0.0262 - accuracy: 0.9911 - val_loss: 0.1080 - val_accuracy: 0.9748\n",
      "Epoch 9/25\n",
      "1500/1500 [==============================] - 4s 3ms/step - loss: 0.0215 - accuracy: 0.9926 - val_loss: 0.1022 - val_accuracy: 0.9764\n",
      "Epoch 10/25\n",
      "1500/1500 [==============================] - 4s 3ms/step - loss: 0.0203 - accuracy: 0.9935 - val_loss: 0.1185 - val_accuracy: 0.9731\n",
      "Epoch 11/25\n",
      "1500/1500 [==============================] - 4s 3ms/step - loss: 0.0184 - accuracy: 0.9935 - val_loss: 0.1117 - val_accuracy: 0.9759\n",
      "Epoch 12/25\n",
      "1500/1500 [==============================] - 4s 3ms/step - loss: 0.0150 - accuracy: 0.9948 - val_loss: 0.1233 - val_accuracy: 0.9746\n",
      "Epoch 13/25\n",
      "1500/1500 [==============================] - 4s 3ms/step - loss: 0.0138 - accuracy: 0.9954 - val_loss: 0.1500 - val_accuracy: 0.9674\n",
      "Epoch 14/25\n",
      "1500/1500 [==============================] - 4s 3ms/step - loss: 0.0135 - accuracy: 0.9953 - val_loss: 0.1227 - val_accuracy: 0.9749\n",
      "Epoch 15/25\n",
      "1500/1500 [==============================] - 5s 3ms/step - loss: 0.0115 - accuracy: 0.9962 - val_loss: 0.1571 - val_accuracy: 0.9698\n",
      "Epoch 16/25\n",
      "1500/1500 [==============================] - 4s 3ms/step - loss: 0.0124 - accuracy: 0.9957 - val_loss: 0.1279 - val_accuracy: 0.9756\n",
      "Epoch 17/25\n",
      "1500/1500 [==============================] - 4s 3ms/step - loss: 0.0107 - accuracy: 0.9964 - val_loss: 0.1487 - val_accuracy: 0.9732\n",
      "Epoch 18/25\n",
      "1500/1500 [==============================] - 4s 3ms/step - loss: 0.0122 - accuracy: 0.9960 - val_loss: 0.1454 - val_accuracy: 0.9732\n",
      "Epoch 19/25\n",
      "1500/1500 [==============================] - 4s 3ms/step - loss: 0.0108 - accuracy: 0.9964 - val_loss: 0.1545 - val_accuracy: 0.9731\n",
      "Epoch 20/25\n",
      "1500/1500 [==============================] - 4s 3ms/step - loss: 0.0100 - accuracy: 0.9967 - val_loss: 0.1357 - val_accuracy: 0.9772\n",
      "Epoch 21/25\n",
      "1500/1500 [==============================] - 4s 3ms/step - loss: 0.0088 - accuracy: 0.9972 - val_loss: 0.1688 - val_accuracy: 0.9736\n",
      "Epoch 22/25\n",
      " 261/1500 [====>.........................] - ETA: 3s - loss: 0.0116 - accuracy: 0.9959"
     ]
    }
   ],
   "source": [
    "# Train the model on the training data (x_train and y_train) for 25 epochs with a 20% validation split\n",
    "history = model.fit(x_train,y_train,epochs=25,validation_split=0.2)"
   ]
  },
  {
   "cell_type": "code",
   "execution_count": null,
   "id": "7726a26b",
   "metadata": {},
   "outputs": [],
   "source": [
    "# Save the trained Keras model to a file named 'keras_model.h5'\n",
    "#model.save('keras_model.h52')"
   ]
  },
  {
   "cell_type": "markdown",
   "id": "b15e5194",
   "metadata": {},
   "source": [
    "Training data Accuracy = 98.7%"
   ]
  },
  {
   "cell_type": "code",
   "execution_count": null,
   "id": "efcef3c6",
   "metadata": {},
   "outputs": [],
   "source": [
    "# Evaluate the model on the test data\n",
    "loss, accuracy = model.evaluate(x_test, y_test)\n",
    "\n",
    "# Print the accuracy of the model on the test data\n",
    "print(accuracy)"
   ]
  },
  {
   "cell_type": "markdown",
   "id": "ac349773",
   "metadata": {},
   "source": [
    "Test data Accuracy = 97.7%"
   ]
  },
  {
   "cell_type": "code",
   "execution_count": null,
   "id": "68258af9",
   "metadata": {},
   "outputs": [],
   "source": [
    "# Plot the training and validation loss\n",
    "plt.plot(history.history['loss'])         # Plot the training loss for each epoch\n",
    "plt.plot(history.history['val_loss'])     # Plot the validation loss for each epoch\n",
    "plt.xlabel('Epoch')                       # Label the x-axis as 'Epoch'\n",
    "plt.ylabel('Loss')                        # Label the y-axis as 'Loss'\n",
    "plt.legend(['Training Loss', 'Validation Loss'])  # Add a legend to the plot to distinguish between training and validation loss\n",
    "plt.show()                                # Display the plot\n"
   ]
  },
  {
   "cell_type": "code",
   "execution_count": null,
   "id": "c37ef25d",
   "metadata": {},
   "outputs": [],
   "source": [
    "# Plot the training and validation accuracy\n",
    "plt.plot(history.history['accuracy'], label='Training Accuracy')  # Plot the training accuracy for each epoch\n",
    "plt.plot(history.history['val_accuracy'], label='Validation Accuracy')  # Plot the validation accuracy for each epoch\n",
    "plt.xlabel('Epoch')  # Label the x-axis as 'Epoch'\n",
    "plt.ylabel('Accuracy')  # Label the y-axis as 'Accuracy'\n",
    "plt.legend()  # Add a legend to the plot to distinguish between training and validation accuracy\n",
    "plt.show()  # Display the plot\n"
   ]
  },
  {
   "cell_type": "code",
   "execution_count": null,
   "id": "c62df8ac",
   "metadata": {},
   "outputs": [],
   "source": [
    "# Print the shape of the test data (x_test)\n",
    "print(x_test.shape)"
   ]
  },
  {
   "cell_type": "code",
   "execution_count": null,
   "id": "c29f6622",
   "metadata": {},
   "outputs": [],
   "source": [
    "# Display the first image in the test data\n",
    "plt.imshow(x_test[0])\n",
    "plt.show()"
   ]
  },
  {
   "cell_type": "code",
   "execution_count": null,
   "id": "9ea74764",
   "metadata": {},
   "outputs": [],
   "source": [
    "# Print the true label of the first image in the test data\n",
    "print(y_test[0])"
   ]
  },
  {
   "cell_type": "code",
   "execution_count": null,
   "id": "9da96a4f",
   "metadata": {},
   "outputs": [],
   "source": [
    "# Use the trained model to make predictions on the test data\n",
    "y_pred = model.predict(x_test)"
   ]
  },
  {
   "cell_type": "code",
   "execution_count": null,
   "id": "98726d26",
   "metadata": {},
   "outputs": [],
   "source": [
    "# Print the predicted probabilities for the first image\n",
    "print(y_pred[0])"
   ]
  },
  {
   "cell_type": "markdown",
   "id": "6bd1df80",
   "metadata": {},
   "source": [
    "Model.predict() gives the prediction probability of each class for that data point"
   ]
  },
  {
   "cell_type": "code",
   "execution_count": null,
   "id": "5518519f",
   "metadata": {},
   "outputs": [],
   "source": [
    "# Convert the prediction probability to a class label for the first image\n",
    "label_for_first_time_image = np.argmax(y_pred[0])\n",
    "print(label_for_first_time_image)"
   ]
  },
  {
   "cell_type": "code",
   "execution_count": null,
   "id": "99f41094",
   "metadata": {},
   "outputs": [],
   "source": [
    "# Convert the predicted probabilities for all test images to class labels\n",
    "y_pred_labels = [np.argmax(i) for i in y_pred]\n",
    "\n",
    "# Print the class labels for all test images\n",
    "print(y_pred_labels)"
   ]
  },
  {
   "cell_type": "markdown",
   "id": "dfed843d",
   "metadata": {},
   "source": [
    "Y_test --> True Labels  ,  Y_pred_labels --> Predicted Labels"
   ]
  },
  {
   "cell_type": "markdown",
   "id": "04ab3b17",
   "metadata": {},
   "source": [
    "# Confusion Matrix"
   ]
  },
  {
   "cell_type": "code",
   "execution_count": null,
   "id": "d3a03530",
   "metadata": {},
   "outputs": [],
   "source": [
    "# Create a confusion matrix to evaluate model performance\n",
    "conf_mat = confusion_matrix(y_test, y_pred_labels)"
   ]
  },
  {
   "cell_type": "code",
   "execution_count": null,
   "id": "48b2f9e2",
   "metadata": {},
   "outputs": [],
   "source": [
    "print(conf_mat)"
   ]
  },
  {
   "cell_type": "code",
   "execution_count": null,
   "id": "670613cd",
   "metadata": {},
   "outputs": [],
   "source": [
    "# Create a heatmap to visualize the confusion matrix\n",
    "plt.figure(figsize=(15, 7))  # Set the figure size to 15 inches in width and 7 inches in height\n",
    "\n",
    "# Generate a heatmap of the confusion matrix with annotations, using a blue color map ('Blues')\n",
    "sns.heatmap(conf_mat, annot=True, fmt='d', cmap='Blues')\n",
    "\n",
    "plt.ylabel('True Labels')  # Label the y-axis as 'True Labels'\n",
    "plt.xlabel('Predicted Labels')  # Label the x-axis as 'Predicted Labels'\n",
    "\n",
    "# Display the heatmap\n",
    "plt.show()\n"
   ]
  },
  {
   "cell_type": "markdown",
   "id": "072c73e2",
   "metadata": {},
   "source": [
    "# Predictive System"
   ]
  },
  {
   "cell_type": "code",
   "execution_count": null,
   "id": "6d661723",
   "metadata": {},
   "outputs": [],
   "source": [
    "import cv2\n",
    "import matplotlib.pyplot as plt\n",
    "import numpy as np\n",
    "\n",
    "# Ask the user for the path of the image to be predicted\n",
    "input_image_path = input('Path of the image to be predicted: ')\n",
    "\n",
    "# Load the input image using OpenCV\n",
    "input_image = cv2.imread(input_image_path)\n",
    "\n",
    "# Use matplotlib to display the input image\n",
    "plt.imshow(cv2.cvtColor(input_image, cv2.COLOR_BGR2RGB))  # Display the image in RGB format\n",
    "plt.axis('off')  # Hide axes\n",
    "plt.show()\n",
    "\n",
    "# Convert the input image to grayscale\n",
    "grayscale = cv2.cvtColor(input_image, cv2.COLOR_RGB2GRAY)\n",
    "\n",
    "# Resize the grayscale image to the same dimensions as the model input (28x28 pixels)\n",
    "input_image_resize = cv2.resize(grayscale, (28, 28))\n",
    "\n",
    "# Normalize pixel values to the range [0, 1]\n",
    "input_image_resize = input_image_resize / 255\n",
    "\n",
    "# Reshape the image to match the model's input shape (1, 28, 28)\n",
    "image_reshaped = np.reshape(input_image_resize, [1, 28, 28])\n",
    "\n",
    "# Use the trained model to make a prediction on the input image\n",
    "input_prediction = model.predict(image_reshaped)\n",
    "\n",
    "# Find the predicted label (the digit recognized from the input image)\n",
    "input_pred_label = np.argmax(input_prediction)\n",
    "\n",
    "# Print the recognized digit label\n",
    "print('The Handwritten Digit is recognized as :-', input_pred_label)\n"
   ]
  },
  {
   "cell_type": "code",
   "execution_count": null,
   "id": "cae148ed",
   "metadata": {},
   "outputs": [],
   "source": []
  }
 ],
 "metadata": {
  "kernelspec": {
   "display_name": "Python 3 (ipykernel)",
   "language": "python",
   "name": "python3"
  },
  "language_info": {
   "codemirror_mode": {
    "name": "ipython",
    "version": 3
   },
   "file_extension": ".py",
   "mimetype": "text/x-python",
   "name": "python",
   "nbconvert_exporter": "python",
   "pygments_lexer": "ipython3",
   "version": "3.10.0"
  }
 },
 "nbformat": 4,
 "nbformat_minor": 5
}
